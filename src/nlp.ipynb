{
  "nbformat": 4,
  "nbformat_minor": 0,
  "metadata": {
    "colab": {
      "name": "nlp.ipynb",
      "provenance": [],
      "collapsed_sections": []
    },
    "kernelspec": {
      "name": "python3",
      "display_name": "Python 3"
    }
  },
  "cells": [
    {
      "cell_type": "code",
      "metadata": {
        "id": "q98bhSXPiEaB",
        "colab_type": "code",
        "colab": {}
      },
      "source": [
        "with open('artigos.txt', 'r') as database:\n",
        "  corpus = database.read()\n",
        "\n",
        "palavras_separadas = nltk.tokenize.word_tokenize(corpus)"
      ],
      "execution_count": null,
      "outputs": []
    },
    {
      "cell_type": "code",
      "metadata": {
        "id": "qSpey4IQnSr6",
        "colab_type": "code",
        "colab": {
          "base_uri": "https://localhost:8080/",
          "height": 69
        },
        "outputId": "5c6c3323-051d-4ee0-986a-07025191bd12"
      },
      "source": [
        "import nltk\n",
        "nltk.download('punkt')\n"
      ],
      "execution_count": null,
      "outputs": [
        {
          "output_type": "stream",
          "text": [
            "[nltk_data] Downloading package punkt to /root/nltk_data...\n",
            "[nltk_data]   Package punkt is already up-to-date!\n"
          ],
          "name": "stdout"
        },
        {
          "output_type": "execute_result",
          "data": {
            "text/plain": [
              "True"
            ]
          },
          "metadata": {
            "tags": []
          },
          "execution_count": 203
        }
      ]
    },
    {
      "cell_type": "code",
      "metadata": {
        "id": "2ngy7fzSP69R",
        "colab_type": "code",
        "colab": {}
      },
      "source": [
        "def separa_palavras(tokens):\n",
        "  lista_palavras = []\n",
        "  for token in tokens:\n",
        "    if token.isalpha():\n",
        "      lista_palavras.append(token)\n",
        "  return lista_palavras\n",
        "\n",
        "def get_palavras(palavras_separadas):\n",
        "  for palavra in palavras_separadas:\n",
        "    print(palavra)\n",
        "\n",
        "\n",
        "def normalizacao(tokens):\n",
        "  tokens = [token.lower() for token in tokens]\n",
        "  return tokens\n",
        "\n",
        "palavras_separadas = separa_palavras(palavras_separadas)\n",
        "palavras_separadas = normalizacao(palavras_separadas)"
      ],
      "execution_count": null,
      "outputs": []
    },
    {
      "cell_type": "code",
      "metadata": {
        "id": "EBartN9GT_m1",
        "colab_type": "code",
        "colab": {}
      },
      "source": [
        ""
      ],
      "execution_count": null,
      "outputs": []
    },
    {
      "cell_type": "code",
      "metadata": {
        "id": "QGJTa6-3VQ35",
        "colab_type": "code",
        "colab": {
          "base_uri": "https://localhost:8080/",
          "height": 35
        },
        "outputId": "29008c05-e774-4eea-e5ee-c520c3d83f32"
      },
      "source": [
        "\"python\" in palavras_separadas"
      ],
      "execution_count": null,
      "outputs": [
        {
          "output_type": "execute_result",
          "data": {
            "text/plain": [
              "True"
            ]
          },
          "metadata": {
            "tags": []
          },
          "execution_count": 208
        }
      ]
    },
    {
      "cell_type": "code",
      "metadata": {
        "id": "IaCZPrLdXUjL",
        "colab_type": "code",
        "colab": {
          "base_uri": "https://localhost:8080/",
          "height": 35
        },
        "outputId": "da5a64db-b9e7-4011-ece9-df14edd9abc7"
      },
      "source": [
        "def gerador_de_palavras(palavra):\n",
        "  fatias = []\n",
        "  for i in range(len(palavra) + 1):\n",
        "    fatias.append((palavra[:i],palavra[i:] ))\n",
        "  palavras_geradas = insere_letras(fatias)\n",
        "  print(palavras_geradas)\n",
        "\n",
        "gerador_de_palavras(\"golng\")"
      ],
      "execution_count": null,
      "outputs": [
        {
          "output_type": "stream",
          "text": [
            "['golang']\n"
          ],
          "name": "stdout"
        }
      ]
    },
    {
      "cell_type": "code",
      "metadata": {
        "id": "QpmecpOoZa95",
        "colab_type": "code",
        "colab": {}
      },
      "source": [
        "def insere_letras(fatias):\n",
        "  novas_palavras = []\n",
        "  letras = \"abcdefghijklmnopqrstuvwxyzàáâãèéêìíîòóôõùúûç\"\n",
        "  for E, D in fatias:\n",
        "    for letra in letras:\n",
        "      if E + letra + D in palavras_separadas:\n",
        "        novas_palavras.append(E + letra + D)\n",
        "  return novas_palavras"
      ],
      "execution_count": null,
      "outputs": []
    },
    {
      "cell_type": "code",
      "metadata": {
        "id": "HuimdFnedSFS",
        "colab_type": "code",
        "colab": {}
      },
      "source": [
        "def corretor(palavras_separadas):\n",
        "  palavras_separadas = separa_palavras(palavras_separadas)\n",
        "  palavras_separadas = normalizacao(palavras_separadas)\n",
        "  gerador_de_palavras(\"golng\")"
      ],
      "execution_count": null,
      "outputs": []
    },
    {
      "cell_type": "code",
      "metadata": {
        "id": "GDqkc-LGiZMQ",
        "colab_type": "code",
        "colab": {
          "base_uri": "https://localhost:8080/",
          "height": 35
        },
        "outputId": "79071667-edc0-43f5-fa93-0b7cd91a0106"
      },
      "source": [
        "corretor(palavras_separadas)"
      ],
      "execution_count": null,
      "outputs": [
        {
          "output_type": "stream",
          "text": [
            "['golang']\n"
          ],
          "name": "stdout"
        }
      ]
    },
    {
      "cell_type": "code",
      "metadata": {
        "id": "211Tqt4Ciarb",
        "colab_type": "code",
        "colab": {
          "base_uri": "https://localhost:8080/",
          "height": 191
        },
        "outputId": "0322d720-1c0d-46b3-b05c-a475a24a7ba7"
      },
      "source": [
        "frequencia = nltk.FreqDist(palavras_separadas)\n",
        "frequencia.most_common(10)"
      ],
      "execution_count": null,
      "outputs": [
        {
          "output_type": "execute_result",
          "data": {
            "text/plain": [
              "[('de', 15494),\n",
              " ('o', 13966),\n",
              " ('que', 12225),\n",
              " ('a', 11034),\n",
              " ('e', 10478),\n",
              " ('para', 7694),\n",
              " ('um', 6346),\n",
              " ('é', 5881),\n",
              " ('uma', 5202),\n",
              " ('do', 5116)]"
            ]
          },
          "metadata": {
            "tags": []
          },
          "execution_count": 219
        }
      ]
    },
    {
      "cell_type": "code",
      "metadata": {
        "id": "tixtV1E_kAfg",
        "colab_type": "code",
        "colab": {}
      },
      "source": [
        "F"
      ],
      "execution_count": null,
      "outputs": []
    }
  ]
}